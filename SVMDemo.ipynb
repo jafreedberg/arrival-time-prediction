{
 "cells": [
  {
   "cell_type": "code",
   "execution_count": 6,
   "metadata": {},
   "outputs": [],
   "source": [
    "from sklearn.externals import joblib\n",
    "import pandas as pd\n",
    "loaded_model = joblib.load('svm.joblib')\n",
    "route800 = pd.read_csv('route_800.csv')\n",
    "route800 = route800.replace({'Nighttime': 0, 'Morning Peak': 1, 'Midday': 2, 'Evening Peak': 3})\n",
    "xTest800 = route800.loc[37695:, ['route_id', 'speed', 'occupancy_status', 'dist_to_stop', 'sched_speed', 'dwell_time', 'weekday', 'time_of_day', 'prevAvg']].values\n",
    "yPred800 = loaded_model.predict(xTest800)"
   ]
  },
  {
   "cell_type": "code",
   "execution_count": 7,
   "metadata": {},
   "outputs": [
    {
     "data": {
      "text/plain": [
       "array([18.75550157,  3.4487453 , 31.09728069, ..., 34.02851742,\n",
       "       34.02851742, 34.35395344])"
      ]
     },
     "execution_count": 7,
     "metadata": {},
     "output_type": "execute_result"
    }
   ],
   "source": [
    "yPred800"
   ]
  },
  {
   "cell_type": "code",
   "execution_count": null,
   "metadata": {},
   "outputs": [],
   "source": []
  }
 ],
 "metadata": {
  "kernelspec": {
   "display_name": "Python 3",
   "language": "python",
   "name": "python3"
  },
  "language_info": {
   "codemirror_mode": {
    "name": "ipython",
    "version": 3
   },
   "file_extension": ".py",
   "mimetype": "text/x-python",
   "name": "python",
   "nbconvert_exporter": "python",
   "pygments_lexer": "ipython3",
   "version": "3.7.3"
  }
 },
 "nbformat": 4,
 "nbformat_minor": 2
}
