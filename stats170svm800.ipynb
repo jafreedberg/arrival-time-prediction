{
 "cells": [
  {
   "cell_type": "code",
   "execution_count": null,
   "metadata": {},
   "outputs": [],
   "source": [
    "import numpy as np\n",
    "import matplotlib.pyplot as plt\n",
    "import pandas as pd\n",
    "from sklearn import metrics\n",
    "from sklearn.metrics import mean_squared_error"
   ]
  },
  {
   "cell_type": "code",
   "execution_count": null,
   "metadata": {},
   "outputs": [],
   "source": [
    "route800 = pd.read_csv('route_800.csv')"
   ]
  },
  {
   "cell_type": "code",
   "execution_count": null,
   "metadata": {},
   "outputs": [],
   "source": [
    "# map categorical data into integers\n",
    "# select training data\n",
    "route800 = route800.replace({'Nighttime': 0, 'Morning Peak': 1, 'Midday': 2, 'Evening Peak': 3})\n",
    "xTrain800 = route800.loc[:37695, ['route_id', 'speed', 'occupancy_status', 'dist_to_stop', 'sched_speed', 'dwell_time', 'weekday', 'time_of_day', 'prevAvg']].values\n",
    "yTrain800 = route800.loc[:37695, ['delay']].values"
   ]
  },
  {
   "cell_type": "code",
   "execution_count": null,
   "metadata": {},
   "outputs": [],
   "source": [
    "# fit the model\n",
    "from sklearn.svm import SVR\n",
    "regressor800 = SVR(kernel='rbf')\n",
    "regressor800.fit(xTrain800, yTrain800)"
   ]
  },
  {
   "cell_type": "code",
   "execution_count": null,
   "metadata": {},
   "outputs": [],
   "source": [
    "# select test data and predict\n",
    "xTest800 = route800.loc[37695:, ['route_id', 'speed', 'occupancy_status', 'dist_to_stop', 'sched_speed', 'dwell_time', 'weekday', 'time_of_day', 'prevAvg']].values\n",
    "yPred800 = regressor800.predict(xTest800)"
   ]
  },
  {
   "cell_type": "code",
   "execution_count": null,
   "metadata": {},
   "outputs": [],
   "source": [
    "# select true y values for test data\n",
    "yTrue800 = route800.loc[37695:, ['delay']].values"
   ]
  },
  {
   "cell_type": "code",
   "execution_count": null,
   "metadata": {},
   "outputs": [],
   "source": [
    "# calculate r squared\n",
    "correlation_matrix800 = np.corrcoef(np.reshape(yTrue800, 16155), yPred800)\n",
    "correlation_xy800 = correlation_matrix800[0,1]\n",
    "r_squared800 = correlation_xy800**2"
   ]
  },
  {
   "cell_type": "code",
   "execution_count": null,
   "metadata": {},
   "outputs": [],
   "source": [
    "r_squared800"
   ]
  },
  {
   "cell_type": "code",
   "execution_count": null,
   "metadata": {},
   "outputs": [],
   "source": [
    "# convert predictions to minutes and round down\n",
    "minPred800 = np.floor_divide(yPred800,60)\n",
    "minTrue800 = np.floor_divide(yTrue800 ,60)"
   ]
  },
  {
   "cell_type": "code",
   "execution_count": null,
   "metadata": {},
   "outputs": [],
   "source": [
    "# calculate accuracy score\n",
    "metrics.accuracy_score(minTrue800, minPred800)"
   ]
  },
  {
   "cell_type": "code",
   "execution_count": null,
   "metadata": {},
   "outputs": [],
   "source": [
    "# calculate mse\n",
    "mean_squared_error(yTrue800,yPred800)"
   ]
  },
  {
   "cell_type": "code",
   "execution_count": null,
   "metadata": {},
   "outputs": [],
   "source": [
    "# predict training data\n",
    "yPredTrain800 = regressor.predict(xTrain800)"
   ]
  },
  {
   "cell_type": "code",
   "execution_count": null,
   "metadata": {},
   "outputs": [],
   "source": [
    "# calculate r squared of training data\n",
    "correlation_matrix800t = np.corrcoef(np.reshape(yTrain800, 37696), yPredTrain800)\n",
    "correlation_xy800t = correlation_matrix800t[0,1]\n",
    "r_squared800t = correlation_xy800t**2"
   ]
  },
  {
   "cell_type": "code",
   "execution_count": null,
   "metadata": {},
   "outputs": [],
   "source": [
    "r_squared800t"
   ]
  },
  {
   "cell_type": "code",
   "execution_count": null,
   "metadata": {},
   "outputs": [],
   "source": [
    "# calculate mse of training data\n",
    "mean_squared_error(yTrain800,yPredTrain800)"
   ]
  }
 ],
 "metadata": {
  "kernelspec": {
   "display_name": "Python 3",
   "language": "python",
   "name": "python3"
  },
  "language_info": {
   "codemirror_mode": {
    "name": "ipython",
    "version": 3
   },
   "file_extension": ".py",
   "mimetype": "text/x-python",
   "name": "python",
   "nbconvert_exporter": "python",
   "pygments_lexer": "ipython3",
   "version": "3.7.3"
  }
 },
 "nbformat": 4,
 "nbformat_minor": 2
}
